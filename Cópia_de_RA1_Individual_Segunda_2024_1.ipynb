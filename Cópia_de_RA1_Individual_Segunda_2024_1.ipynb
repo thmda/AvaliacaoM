{
  "nbformat": 4,
  "nbformat_minor": 0,
  "metadata": {
    "colab": {
      "provenance": [],
      "collapsed_sections": [
        "naOnJG1pvgMu"
      ],
      "toc_visible": true,
      "include_colab_link": true
    },
    "kernelspec": {
      "name": "python3",
      "display_name": "Python 3"
    },
    "language_info": {
      "name": "python"
    }
  },
  "cells": [
    {
      "cell_type": "markdown",
      "metadata": {
        "id": "view-in-github",
        "colab_type": "text"
      },
      "source": [
        "<a href=\"https://colab.research.google.com/github/thmda/AvaliacaoM/blob/main/C%C3%B3pia_de_RA1_Individual_Segunda_2024_1.ipynb\" target=\"_parent\"><img src=\"https://colab.research.google.com/assets/colab-badge.svg\" alt=\"Open In Colab\"/></a>"
      ]
    },
    {
      "cell_type": "markdown",
      "source": [
        "# Avaliação em INDIVIDUAL RA1 - 2024-1\n",
        "\n",
        "**Antes de começar, leia estas instruções cuidadosamente.**\n",
        "Esta avaliação é individual. Você poderá consultar qualquer fonte disponível na biblioteca, suas anotações ou na internet. Mas, não poderá consultar outras pessoas.\n",
        "\n",
        "Não existirão prorrogações de prazo de entrega.\n",
        "\n",
        "Trabalhos idênticos entregues por pessoas, diferentes, serão anulados.\n",
        "\n",
        "Todos os trabalhos serão entregues em uma cópia deste caderno de atividades na forma de um link postado no AVA da instituição (Canvas). Todos os enunciados devem ser preservados e você deverá inserir uma célula de textos com o **seu nome**, logo após esta célula de texto de instruções.\n",
        "\n",
        "Qualquer alteração do caderno contendo as suas respostas que seja registrada após a data de postagem provocará a anulação da avaliação.\n",
        "\n",
        "Você poderá usar, neste notebook, apenas a linguagem python limitada ao uso das seguintes bibliotecas: numpy, sympy, matplotlib, ipWidgets e IPython. Todo e qualquer gráfico deverá ser criado usando o Python.\n",
        "\n",
        "Entrega será realizada com a postagem de um link para um ambiente de execução, no AVA da institução. Neste link o seu caderno deve permitir ser executado (permissão de leitor). Serão aceitos links diretos ao ambiente do Google Colaboratory, ou Links a um caderno do Google Colaboratory que tenha sido salvo pelo próprio Google Colaboratory no GitHub. Links para outro ambiente, ou que requeiram qualquer tipo de download, cliques extras, ou ainda, que requeiram aprovação para acesso, provocarão a nota zero na avaliação.\n",
        "\n",
        "Para salvar a avaliação no GitHub, clique no menu _Arquivo_ e escolha a opção _Salvar uma Cópia no Github_. Para que isso funcione você precisa ter um repositório no Github. O link que você irá compartilhar será a url da página que o próprio Gooble Colab irá abrir depois de salvar suas respostas no Github.\n",
        "\n",
        "Se você encontrar algo errado nesta avaliação simplesmente anote suas observações na própria questão. Suas observações serão consideradas durante a avaliação e, em caso de pertinência, poderão encejar a anulação do item, ou da questão, a critério do professor.\n",
        "\n",
        "Não é permitido usar qualquer técnica matemática baseada em derivação, ou que fuja dos conteúdos apresenados em aula referente ao estudo de limites. Você pode usar a fórmula das diferenças finitas e todas as regras e identidades algébricas que sejam pertinentes ao cálculo de limites.\n",
        "\n",
        "**Lembrem-se a interpretação faz parte da questão.**"
      ],
      "metadata": {
        "id": "IYWLM47FgvAt"
      }
    },
    {
      "cell_type": "markdown",
      "source": [
        "## Questões\n",
        "\n",
        "Usando apenas álgebra encontre o limites solicitados a seguir e faça uma análise do resultado encontrados. Para fazer a análise você pode usar as ferramentas que desejar, desde que seja possível verificar a validade das suas afirmações usando apenas este caderno de avaliação.\n",
        "\n",
        "Lembre-se você deve usar notação matemática na sua resposta e todo o desenvolvimento deve estar explicitado (passo a passo). O que implica na obrigatoriedade do uso de Latex neste caderno de avaliação.\n",
        "\n",
        "Observe que o cálculo do valor do limite, usando uma calculadora, site, ou ferramenta qualquer, por si só não pode ser usado como argumento na sua análise. Isso quer dizer que justificativas como o limite é $w$ porque qualquer disse que era esse valor ou o limte é $w$ porque eu calculei usando o sympy, não serão aceitas.\n",
        "\n",
        "1. **Primeira Questão:**\n",
        "\n",
        "   $$\\lim_{{x \\to 0}} \\frac{1 - \\cos(x)}{x^2}$$\n",
        "\n",
        "2. **Segunda Questão:**\n",
        "\n",
        "   $$\\lim_{{x \\to 1}} \\frac{\\sqrt{x + 8} - 3}{x^2 - 1}$$\n",
        "\n",
        "3. **Terceira Questão:**\n",
        "  \n",
        "  $$\\lim_{h \\to 0} \\frac{(2 + h)^3 - 8}{h}$$\n",
        "\n",
        "4. **Quarta Questão:**\n",
        "  \n",
        "  $$\\lim_{t \\to 0} \\left( \\frac{1}{t\\sqrt{t + 1}} - \\frac{1}{t} \\right)$$\n",
        "\n",
        "**Rúbrica de avaliação**: cada limite corretamente determinado com a algebra demonstrada em notação matemática 1 ponto; cada análise consistente 1,5 pontos. Total 2.5 pontos por questão implicando em, no máximo 10 pontos."
      ],
      "metadata": {
        "id": "Hffk6Rtmhaga"
      }
    },
    {
      "cell_type": "markdown",
      "source": [
        "# 1)"
      ],
      "metadata": {
        "id": "naOnJG1pvgMu"
      }
    },
    {
      "cell_type": "code",
      "source": [
        "# conferindo o limite via sympy\n",
        "from sympy import *\n",
        "\n",
        "x = sp.symbols('x')\n",
        "\n",
        "f = (1 - cos(x)) / (x**2)\n",
        "\n",
        "limite = sp.limit(f, x, 0)\n",
        "print(limite)"
      ],
      "metadata": {
        "colab": {
          "base_uri": "https://localhost:8080/"
        },
        "id": "I0n9MAVSvtXZ",
        "outputId": "3a9b624a-3b26-44e7-8718-640e700b230c"
      },
      "execution_count": 3,
      "outputs": [
        {
          "output_type": "stream",
          "name": "stdout",
          "text": [
            "1/2\n"
          ]
        }
      ]
    },
    {
      "cell_type": "markdown",
      "source": [
        "# 2)"
      ],
      "metadata": {
        "id": "eS-lLatBvEWi"
      }
    },
    {
      "cell_type": "markdown",
      "source": [
        "$$\\lim_{{x \\to 1}} \\frac{\\sqrt{x + 8} - 3}{x^2 - 1}$$\n",
        "\n",
        "Substituição direta de x = 1:\n",
        "\n",
        "\n",
        "$$\\lim_{{x \\to 1}} \\frac{\\sqrt{(1) + 8} - 3}{(1)^2 - 1} = \\lim_{{x \\to 1}} \\frac{\\sqrt{9} - 3}{1 - 1} = \\lim_{{x \\to 1}} \\frac{3 - 3}{0} = \\frac{0}{0}$$\n",
        "\n",
        "Como visto, o resultado pela substituição direta é uma indeterminação.\n",
        "\n",
        "O próximo passo é racionalizar o numerador:\n",
        "$$\\lim_{{x \\to 1}} \\frac{\\sqrt{x + 8} - 3}{x^2 - 1}\\frac{\\sqrt{x + 8} + 3}{\\sqrt{x + 8} + 3}$$\n",
        "\n",
        "Nota-se, nos numeradores, uma diferença de quadrados:\n",
        "$$\\lim_{{x \\to 1}} \\frac{(\\sqrt{x + 8})^2 - 3^2}{(x^2 - 1)(\\sqrt{x + 8} + 3)}$$\n",
        "\n",
        "$$\\lim_{{x \\to 1}} \\frac{(\\sqrt{x + 8})^2 - 3^2}{(x^2 - 1)(\\sqrt{x + 8} + 3)}$$\n",
        "\n",
        "A expressão $(x^2-1)$ também equivale a uma diferença de quadrados:\n",
        "$$\\lim_{{x \\to 1}} \\frac{x+8-9}{(x^2 - 1)(\\sqrt{x + 8} + 3)}$$\n",
        "\n",
        "\n",
        "$$\\lim_{{x \\to 1}} \\frac{x-1}{(x-1)(x+1)(\\sqrt{x + 8} + 3)}$$\n",
        "\n",
        "Cancelando os termos em comum no numerador e denominador:\n",
        "$$\\lim_{{x \\to 1}} \\frac{1}{(x+1)(\\sqrt{x + 8} + 3)}$$\n"
      ],
      "metadata": {
        "id": "ziQVAHPArbHA"
      }
    },
    {
      "cell_type": "code",
      "source": [
        "# conferindo o limite via sympy\n",
        "import sympy as sp\n",
        "\n",
        "x = sp.symbols('x')\n",
        "\n",
        "f = (((x+8)**(1/2)) - 3) / (x**2 -1)\n",
        "\n",
        "limite = sp.limit(f, x, 1)\n",
        "print(limite)"
      ],
      "metadata": {
        "colab": {
          "base_uri": "https://localhost:8080/"
        },
        "id": "OSGzNPkctwsV",
        "outputId": "9f308e34-3359-4bb0-c5b3-9053eb1f6a58"
      },
      "execution_count": 2,
      "outputs": [
        {
          "output_type": "stream",
          "name": "stdout",
          "text": [
            "1/12\n"
          ]
        }
      ]
    },
    {
      "cell_type": "markdown",
      "source": [
        "# 3)"
      ],
      "metadata": {
        "id": "jUXMGvDiwJQH"
      }
    },
    {
      "cell_type": "markdown",
      "source": [
        "$$\\lim_{h \\to 0} \\frac{(2 + h)^3 - 8}{h}$$\n",
        "\n",
        "Substituição direta de x = 0:\n",
        "\n",
        "\n",
        "$$\\lim_{h \\to 0} \\frac{(2 + (0))^3 - 8}{(0)}=\\lim_{h \\to 0} \\frac{(2 + (0))^3 - 8}{(0)} = \\lim_{h \\to 0} \\frac{8- 8}{0} = \\frac{0}{0}$$\n",
        "\n",
        "O resultado pela substituição direta é uma indeterminação.\n",
        "\n"
      ],
      "metadata": {
        "id": "iVGx1KMbwZRC"
      }
    },
    {
      "cell_type": "code",
      "source": [
        "# conferindo o limite via sympy\n",
        "import sympy as sp\n",
        "\n",
        "h = sp.symbols('h')\n",
        "\n",
        "f = (((2+h)**3)-8)/(h)\n",
        "\n",
        "limite = sp.limit(f, h, 0)\n",
        "print(limite)"
      ],
      "metadata": {
        "colab": {
          "base_uri": "https://localhost:8080/"
        },
        "id": "M7Jd64LTwMWw",
        "outputId": "eb6372b0-7b2c-430c-8374-7f313767003a"
      },
      "execution_count": 12,
      "outputs": [
        {
          "output_type": "stream",
          "name": "stdout",
          "text": [
            "12\n"
          ]
        }
      ]
    },
    {
      "cell_type": "markdown",
      "source": [
        "# 4)"
      ],
      "metadata": {
        "id": "7ECJMjNNwun2"
      }
    },
    {
      "cell_type": "code",
      "source": [
        "# conferindo o limite via sympy\n",
        "import sympy as sp\n",
        "\n",
        "t = sp.symbols('t')\n",
        "\n",
        "f = ((1))/(t*(sp.sqrt(t+1))) - (1/t)\n",
        "\n",
        "limite = sp.limit(f, t, 0)\n",
        "print(limite)"
      ],
      "metadata": {
        "colab": {
          "base_uri": "https://localhost:8080/"
        },
        "id": "rG4OEtD6wxGn",
        "outputId": "380a2549-0e89-4b40-aaaa-5b5570f2f913"
      },
      "execution_count": 13,
      "outputs": [
        {
          "output_type": "stream",
          "name": "stdout",
          "text": [
            "-1/2\n"
          ]
        }
      ]
    },
    {
      "cell_type": "markdown",
      "source": [
        "Substituicao direta:\n",
        "\n",
        "$$\\lim_{t \\to 0} \\left( \\frac{1}{t\\sqrt{t + 1}} - \\frac{1}{t} \\right) = \\lim_{t \\to 0} \\left( \\frac{1}{0\\sqrt{0 + 1}} - \\frac{1}{0} \\right) = \\frac{0}{0}$$\n",
        "\n"
      ],
      "metadata": {
        "id": "yn960bJA9c4d"
      }
    },
    {
      "cell_type": "code",
      "source": [
        "from sympy import symbols, limit, diff, sin, cos, ln, exp, sqrt, Rational\n",
        "import numpy as np\n",
        "import matplotlib.pyplot as plt\n",
        "from IPython.display import display, Math\n",
        "\n",
        "# Definindo a variável simbólica e a função\n",
        "t = symbols('t')\n",
        "f = ((1))/(t*(sp.sqrt(t+1))) - (1/t)\n",
        "\n",
        "ponto_desejado = 0\n",
        "\n",
        "def criar_pontos_aproximacao(valor_limite, distancia=[0.1, 0.01, 0.001, 0.0001, 0.00001]):\n",
        "    pontos_esquerda = [valor_limite - d for d in distancia]\n",
        "    pontos_direita = [valor_limite + d for d in distancia]\n",
        "    return pontos_esquerda, pontos_direita\n",
        "\n",
        "# Reaplicando a função para criar os pontos de aproximação\n",
        "pontos_esquerda, pontos_direita = criar_pontos_aproximacao(ponto_desejado)\n",
        "\n",
        "# Recalculando os valores de f(x) para os pontos à esquerda e à direita\n",
        "valores_esquerda = [f.subs(t, ponto).evalf() for ponto in pontos_esquerda]\n",
        "valores_direita = [f.subs(t, ponto).evalf() for ponto in pontos_direita]\n",
        "\n",
        "# Preparando a saída em formato de tabela novamente\n",
        "tabela_latex = \"\\\\begin{array}{|c|c|c|c|}\\n\"\n",
        "tabela_latex += \"\\\\hline\\n\"\n",
        "tabela_latex += \"\\\\text{Aprox. à Esquerda} & \\\\text{Valor} & \\\\text{Aprox. à Direita} & \\\\text{Valor} \\\\\\\\\\n\"\n",
        "tabela_latex += \"\\\\hline\\n\"\n",
        "for i in range(len(pontos_esquerda)):\n",
        "    tabela_latex += f\"{pontos_esquerda[i]:.5f} & {valores_esquerda[i]:.5f} & {pontos_direita[i]:.5f} & {valores_direita[i]:.5f} \\\\\\\\\\n\"\n",
        "tabela_latex += \"\\\\hline\\n\"\n",
        "tabela_latex += \"\\\\end{array}\"\n",
        "\n",
        "display(Math(tabela_latex))"
      ],
      "metadata": {
        "colab": {
          "base_uri": "https://localhost:8080/",
          "height": 140
        },
        "id": "foAdo8LP8B4I",
        "outputId": "7edd84bd-7ad8-4838-e88c-dc0cb1550831"
      },
      "execution_count": 16,
      "outputs": [
        {
          "output_type": "display_data",
          "data": {
            "text/plain": [
              "<IPython.core.display.Math object>"
            ],
            "text/latex": "$\\displaystyle \\begin{array}{|c|c|c|c|}\n\\hline\n\\text{Aprox. à Esquerda} & \\text{Valor} & \\text{Aprox. à Direita} & \\text{Valor} \\\\\n\\hline\n-0.10000 & -0.54093 & 0.10000 & -0.46537 \\\\\n-0.01000 & -0.50378 & 0.01000 & -0.49628 \\\\\n-0.00100 & -0.50038 & 0.00100 & -0.49963 \\\\\n-0.00010 & -0.50004 & 0.00010 & -0.49996 \\\\\n-0.00001 & -0.50000 & 0.00001 & -0.50000 \\\\\n\\hline\n\\end{array}$"
          },
          "metadata": {}
        }
      ]
    },
    {
      "cell_type": "markdown",
      "source": [
        "Em ambas as direções, os valores tendem ao $-\\infty$"
      ],
      "metadata": {
        "id": "YGmzyygJ8f-X"
      }
    },
    {
      "cell_type": "markdown",
      "source": [
        "$$\\lim_{t \\to 0^-} \\left( \\frac{1}{t\\sqrt{t + 1}} - \\frac{1}{t} \\right) = -\\infty$$\n",
        "$$\\lim_{t \\to 0^+} \\left( \\frac{1}{t\\sqrt{t + 1}} - \\frac{1}{t} \\right)= -\\infty$$"
      ],
      "metadata": {
        "id": "zrDU7TmHw0YO"
      }
    }
  ]
}